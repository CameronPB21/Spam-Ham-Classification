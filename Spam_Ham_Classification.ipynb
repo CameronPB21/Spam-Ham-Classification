{
 "cells": [
  {
   "cell_type": "code",
   "execution_count": 1,
   "id": "2c66be54",
   "metadata": {},
   "outputs": [],
   "source": [
    "import numpy as np\n",
    "import pandas as pd\n",
    "\n",
    "import matplotlib.pyplot as plt\n",
    "%matplotlib inline\n",
    "\n",
    "import seaborn as sns\n",
    "sns.set(style = \"whitegrid\", \n",
    "        color_codes = True,\n",
    "        font_scale = 1.5)"
   ]
  },
  {
   "cell_type": "code",
   "execution_count": 2,
   "id": "671cc040",
   "metadata": {},
   "outputs": [],
   "source": [
    "import zipfile\n",
    "with zipfile.ZipFile('spam_ham_data.zip') as item:\n",
    "    item.extractall()"
   ]
  },
  {
   "cell_type": "code",
   "execution_count": 3,
   "id": "6be721b4",
   "metadata": {
    "scrolled": true
   },
   "outputs": [
    {
     "data": {
      "text/html": [
       "<div>\n",
       "<style scoped>\n",
       "    .dataframe tbody tr th:only-of-type {\n",
       "        vertical-align: middle;\n",
       "    }\n",
       "\n",
       "    .dataframe tbody tr th {\n",
       "        vertical-align: top;\n",
       "    }\n",
       "\n",
       "    .dataframe thead th {\n",
       "        text-align: right;\n",
       "    }\n",
       "</style>\n",
       "<table border=\"1\" class=\"dataframe\">\n",
       "  <thead>\n",
       "    <tr style=\"text-align: right;\">\n",
       "      <th></th>\n",
       "      <th>id</th>\n",
       "      <th>subject</th>\n",
       "      <th>email</th>\n",
       "      <th>spam</th>\n",
       "    </tr>\n",
       "  </thead>\n",
       "  <tbody>\n",
       "    <tr>\n",
       "      <th>0</th>\n",
       "      <td>0</td>\n",
       "      <td>Subject: A&amp;L Daily to be auctioned in bankrupt...</td>\n",
       "      <td>url: http://boingboing.net/#85534171\\n date: n...</td>\n",
       "      <td>0</td>\n",
       "    </tr>\n",
       "    <tr>\n",
       "      <th>1</th>\n",
       "      <td>1</td>\n",
       "      <td>Subject: Wired: \"Stronger ties between ISPs an...</td>\n",
       "      <td>url: http://scriptingnews.userland.com/backiss...</td>\n",
       "      <td>0</td>\n",
       "    </tr>\n",
       "    <tr>\n",
       "      <th>2</th>\n",
       "      <td>2</td>\n",
       "      <td>Subject: It's just too small                  ...</td>\n",
       "      <td>&lt;html&gt;\\n &lt;head&gt;\\n &lt;/head&gt;\\n &lt;body&gt;\\n &lt;font siz...</td>\n",
       "      <td>1</td>\n",
       "    </tr>\n",
       "    <tr>\n",
       "      <th>3</th>\n",
       "      <td>3</td>\n",
       "      <td>Subject: liberal defnitions\\n</td>\n",
       "      <td>depends on how much over spending vs. how much...</td>\n",
       "      <td>0</td>\n",
       "    </tr>\n",
       "    <tr>\n",
       "      <th>4</th>\n",
       "      <td>4</td>\n",
       "      <td>Subject: RE: [ILUG] Newbie seeks advice - Suse...</td>\n",
       "      <td>hehe sorry but if you hit caps lock twice the ...</td>\n",
       "      <td>0</td>\n",
       "    </tr>\n",
       "  </tbody>\n",
       "</table>\n",
       "</div>"
      ],
      "text/plain": [
       "   id                                            subject  \\\n",
       "0   0  Subject: A&L Daily to be auctioned in bankrupt...   \n",
       "1   1  Subject: Wired: \"Stronger ties between ISPs an...   \n",
       "2   2  Subject: It's just too small                  ...   \n",
       "3   3                      Subject: liberal defnitions\\n   \n",
       "4   4  Subject: RE: [ILUG] Newbie seeks advice - Suse...   \n",
       "\n",
       "                                               email  spam  \n",
       "0  url: http://boingboing.net/#85534171\\n date: n...     0  \n",
       "1  url: http://scriptingnews.userland.com/backiss...     0  \n",
       "2  <html>\\n <head>\\n </head>\\n <body>\\n <font siz...     1  \n",
       "3  depends on how much over spending vs. how much...     0  \n",
       "4  hehe sorry but if you hit caps lock twice the ...     0  "
      ]
     },
     "execution_count": 3,
     "metadata": {},
     "output_type": "execute_result"
    }
   ],
   "source": [
    "original_training_data = pd.read_csv('train.csv')\n",
    "test = pd.read_csv('test.csv')\n",
    "\n",
    "# Convert the emails to lower case\n",
    "original_training_data['email'] = original_training_data['email'].str.lower()\n",
    "test['email'] = test['email'].str.lower()\n",
    "\n",
    "original_training_data.head()"
   ]
  },
  {
   "cell_type": "markdown",
   "id": "7d91e739",
   "metadata": {},
   "source": [
    "The `train` DataFrame contains labeled data in four columns:\n",
    "\n",
    "1. `id`: An identifier for the training example\n",
    "1. `subject`: The subject of the email\n",
    "1. `email`: The text of the email\n",
    "1. `spam`: 1 if the email is spam, 0 if the email is ham (not spam)\n",
    "\n",
    "The `test` DataFrame contains 1000 unlabeled emails."
   ]
  },
  {
   "cell_type": "markdown",
   "id": "487cdde3",
   "metadata": {},
   "source": [
    "First: check if our data contains any missing values. \n",
    "-print the number of NaN values in each column\n",
    "-If there are NaN values, we replace them with appropriate filler values (i.e., NaN values in the `subject` or `email` columns will be replaced with empty strings) \n",
    "-Finally, we print the number of NaN values in each column after this modification to verify that there are no NaN values left.\n",
    "\n",
    "Note that while there are no NaN values in the `spam` column, we should be careful when replacing NaN labels. Doing so without consideration may introduce significant bias into our model when fitting."
   ]
  },
  {
   "cell_type": "code",
   "execution_count": 4,
   "id": "b10ab859",
   "metadata": {},
   "outputs": [
    {
     "name": "stdout",
     "output_type": "stream",
     "text": [
      "Before imputation:\n",
      "id         0\n",
      "subject    6\n",
      "email      0\n",
      "spam       0\n",
      "dtype: int64\n",
      "------------\n",
      "After imputation:\n",
      "id         0\n",
      "subject    0\n",
      "email      0\n",
      "spam       0\n",
      "dtype: int64\n"
     ]
    }
   ],
   "source": [
    "print('Before imputation:')\n",
    "print(original_training_data.isnull().sum())\n",
    "original_training_data = original_training_data.fillna('')\n",
    "print('------------')\n",
    "print('After imputation:')\n",
    "print(original_training_data.isnull().sum())"
   ]
  },
  {
   "cell_type": "code",
   "execution_count": 5,
   "id": "e5c02705",
   "metadata": {},
   "outputs": [
    {
     "name": "stdout",
     "output_type": "stream",
     "text": [
      "url: http://boingboing.net/#85534171\n",
      " date: not supplied\n",
      " \n",
      " arts and letters daily, a wonderful and dense blog, has folded up its tent due \n",
      " to the bankruptcy of its parent company. a&l daily will be auctioned off by the \n",
      " receivers. link[1] discuss[2] (_thanks, misha!_)\n",
      " \n",
      " [1] http://www.aldaily.com/\n",
      " [2] http://www.quicktopic.com/boing/h/zlfterjnd6jf\n",
      " \n",
      " \n",
      "\n",
      "<html>\n",
      " <head>\n",
      " </head>\n",
      " <body>\n",
      " <font size=3d\"4\"><b> a man endowed with a 7-8\" hammer is simply<br>\n",
      "  better equipped than a man with a 5-6\"hammer. <br>\n",
      " <br>would you rather have<br>more than enough to get the job done or fall =\n",
      " short. it's totally up<br>to you. our methods are guaranteed to increase y=\n",
      " our size by 1-3\"<br> <a href=3d\"http://209.163.187.47/cgi-bin/index.php?10=\n",
      " 004\">come in here and see how</a>\n",
      " </body>\n",
      " </html>\n",
      " \n",
      " \n",
      " \n",
      "\n"
     ]
    }
   ],
   "source": [
    "#Looking at the first Ham and first Spam emails\n",
    "first_ham = original_training_data.loc[original_training_data['spam'] == 0, 'email'].iloc[0]\n",
    "first_spam = original_training_data.loc[original_training_data['spam'] == 1, 'email'].iloc[0]\n",
    "print(first_ham)\n",
    "print(first_spam)"
   ]
  },
  {
   "cell_type": "markdown",
   "id": "644a2ebc",
   "metadata": {},
   "source": [
    "First inspection, the spam has html formatting and no sign off"
   ]
  },
  {
   "cell_type": "code",
   "execution_count": 6,
   "id": "43ba3709",
   "metadata": {},
   "outputs": [],
   "source": [
    "# This creates a 90/10 train-validation split on our labeled data\n",
    "\n",
    "from sklearn.model_selection import train_test_split\n",
    "\n",
    "train, val = train_test_split(original_training_data, test_size = 0.1, random_state = 42)"
   ]
  },
  {
   "cell_type": "markdown",
   "id": "70b60654",
   "metadata": {},
   "source": [
    "Initial Feature Engineering"
   ]
  },
  {
   "cell_type": "code",
   "execution_count": 7,
   "id": "e5d8c127",
   "metadata": {},
   "outputs": [],
   "source": [
    "def words_in_texts(words, texts):\n",
    "    '''\n",
    "    Args:\n",
    "        words (list): words to find\n",
    "        texts (Series): strings to search in\n",
    "    \n",
    "    Returns:\n",
    "        NumPy array of 0s and 1s with shape (n, p) where n is the\n",
    "        number of texts and p is the number of words.\n",
    "    '''\n",
    "    word_len = len(words)\n",
    "    text_len = len(texts)\n",
    "    indicator_array = np.array([texts.str.contains(word) for word in words]).T.astype(int)\n",
    "    return indicator_array"
   ]
  },
  {
   "cell_type": "markdown",
   "id": "7a7aff38",
   "metadata": {},
   "source": [
    "Initial EDA - Frequency of potential words relevant to Spam Emails"
   ]
  },
  {
   "cell_type": "code",
   "execution_count": 8,
   "id": "49d7b8b5",
   "metadata": {},
   "outputs": [
    {
     "data": {
      "text/plain": [
       "Text(0, 0.5, 'Proportion of Email')"
      ]
     },
     "execution_count": 8,
     "metadata": {},
     "output_type": "execute_result"
    },
    {
     "data": {
      "image/png": "[encoded data removed]",
      "text/plain": [
       "<Figure size 432x288 with 1 Axes>"
      ]
     },
     "metadata": {},
     "output_type": "display_data"
    }
   ],
   "source": [
    "train = train.reset_index(drop=True) # We must do this in order to preserve the ordering of emails to labels for words_in_texts\n",
    "\n",
    "train_spam = train.loc[train[\"spam\"] == 1, :]\n",
    "train_ham = train.loc[train[\"spam\"] == 0, :]\n",
    "words_to_check = [\"opportunity\", \"free\", \"win\", \"head\", \"!\", \"guaranteed\",\n",
    "                 \"drug\", \"bank\", \"prescription\", \"memo\", \"private\"]\n",
    "check_series = words_in_texts(words_to_check, train.loc[:, \"email\"]).T\n",
    "df_bar = pd.DataFrame({\n",
    "    words_to_check[0]: check_series[0],\n",
    "    words_to_check[1]: check_series[1],\n",
    "    words_to_check[2]: check_series[2],\n",
    "    words_to_check[3]: check_series[3],\n",
    "    words_to_check[4]: check_series[4],\n",
    "    words_to_check[5]: check_series[5],\n",
    "    words_to_check[6]: check_series[6],\n",
    "    words_to_check[7]: check_series[7],\n",
    "    words_to_check[8]: check_series[8],\n",
    "    words_to_check[9]: check_series[9],\n",
    "    'type' : train.loc[:, \"spam\"]\n",
    "})\n",
    "df_bar = df_bar.melt('type')\n",
    "sns.barplot(x=df_bar['variable'], y=df_bar['value'], hue=df_bar['type'])\n",
    "plt.title(\"Frequency of words in Spam (1) / Ham (0) Emails\")\n",
    "plt.xlabel(\"Word\")\n",
    "plt.ylabel(\"Proportion of Email\")"
   ]
  },
  {
   "cell_type": "code",
   "execution_count": 9,
   "id": "224aa948",
   "metadata": {},
   "outputs": [
    {
     "data": {
      "text/plain": [
       "(array([[0, 1, 1, 0, 1, 0, 0, 0, 0, 0, 0],\n",
       "        [0, 0, 1, 0, 0, 0, 0, 0, 0, 0, 0],\n",
       "        [0, 1, 0, 0, 1, 0, 0, 0, 0, 0, 0],\n",
       "        [0, 0, 0, 0, 1, 0, 0, 0, 0, 0, 0],\n",
       "        [1, 1, 1, 1, 1, 0, 0, 0, 0, 1, 0]]),\n",
       " 0    0\n",
       " 1    0\n",
       " 2    0\n",
       " 3    0\n",
       " 4    0\n",
       " Name: spam, dtype: int64)"
      ]
     },
     "execution_count": 9,
     "metadata": {},
     "output_type": "execute_result"
    }
   ],
   "source": [
    "some_words = words_to_check\n",
    "\n",
    "X_train = words_in_texts(some_words, train.loc[:, 'email'])\n",
    "Y_train = train.loc[:, 'spam']\n",
    "\n",
    "#Checking first 5 vals\n",
    "X_train[:5], Y_train[:5]"
   ]
  },
  {
   "cell_type": "code",
   "execution_count": 10,
   "id": "f98b9913",
   "metadata": {},
   "outputs": [
    {
     "name": "stdout",
     "output_type": "stream",
     "text": [
      "Training Accuracy:  0.7931585252229469\n"
     ]
    }
   ],
   "source": [
    "from sklearn.linear_model import LogisticRegression\n",
    "\n",
    "model = LogisticRegression()\n",
    "model.fit(X_train, Y_train)\n",
    "\n",
    "training_accuracy = model.score(X=X_train, y=Y_train)\n",
    "print(\"Training Accuracy: \", training_accuracy)"
   ]
  },
  {
   "cell_type": "markdown",
   "id": "420393c7",
   "metadata": {},
   "source": [
    "Examples of precision, recall, and false-alarm rate"
   ]
  },
  {
   "cell_type": "code",
   "execution_count": 11,
   "id": "197033d1",
   "metadata": {},
   "outputs": [
    {
     "data": {
      "text/plain": [
       "(0.6812749003984063, 0.35662148070907196, 0.05719392314566577)"
      ]
     },
     "execution_count": 11,
     "metadata": {},
     "output_type": "execute_result"
    }
   ],
   "source": [
    "y_pred = model.predict(X_train)\n",
    "all_positives = y_pred[y_pred == 1]\n",
    "all_true = y_pred[y_pred == Y_train]\n",
    "true_positives = all_true[all_true == 1]\n",
    "all_false = y_pred[y_pred != Y_train]\n",
    "false_negatives = all_false[all_false == 0]\n",
    "false_positives = all_false[all_false == 1]\n",
    "true_negatives = all_true[all_true == 0]\n",
    "logistic_predictor_precision = len(true_positives) / len(all_positives)\n",
    "logistic_predictor_recall = len(true_positives) / (len(true_positives) + len(false_negatives))\n",
    "logistic_predictor_far = len(false_positives) / (len(false_positives) + len(true_negatives))\n",
    "logistic_predictor_precision, logistic_predictor_recall, logistic_predictor_far"
   ]
  },
  {
   "cell_type": "code",
   "execution_count": 12,
   "id": "11923f2c",
   "metadata": {},
   "outputs": [
    {
     "name": "stdout",
     "output_type": "stream",
     "text": [
      "the\n"
     ]
    }
   ],
   "source": [
    "train_spam = train.loc[train[\"spam\"] == 1]\n",
    "spam_dict = dict()\n",
    "for line in train_spam[\"email\"]:\n",
    "    words = line.split()\n",
    "    for word in words:\n",
    "        to_add = word.split('/')\n",
    "        for add in to_add:\n",
    "            if len(add) < 20 and '-' not in add:\n",
    "                if add not in spam_dict:\n",
    "                    spam_dict[add] = 1\n",
    "                else:\n",
    "                    spam_dict[add] += 1\n",
    "top = max(spam_dict, key=spam_dict.get)\n",
    "print(max(spam_dict, key=spam_dict.get))\n",
    "spam_dict.pop(top)\n",
    "train_ham = train.loc[train[\"spam\"] == 0]"
   ]
  },
  {
   "cell_type": "code",
   "execution_count": 13,
   "id": "0889f8de",
   "metadata": {},
   "outputs": [
    {
     "name": "stdout",
     "output_type": "stream",
     "text": [
      "\n"
     ]
    },
    {
     "data": {
      "text/plain": [
       "19726"
      ]
     },
     "execution_count": 13,
     "metadata": {},
     "output_type": "execute_result"
    }
   ],
   "source": [
    "top = max(spam_dict, key=spam_dict.get)\n",
    "print(max(spam_dict, key=spam_dict.get))\n",
    "spam_dict.pop(top)"
   ]
  },
  {
   "cell_type": "markdown",
   "id": "e5ef1d55",
   "metadata": {},
   "source": [
    "First our function to test our models once made"
   ]
  },
  {
   "cell_type": "code",
   "execution_count": 14,
   "id": "b7e437bc",
   "metadata": {},
   "outputs": [],
   "source": [
    "def test_model(model, x, y): \n",
    "    print(np.linalg.matrix_rank(x) == len(x.columns))\n",
    "    model.fit(x, y)\n",
    "\n",
    "    print(model.score(x, y))\n",
    "    return model"
   ]
  },
  {
   "cell_type": "markdown",
   "id": "f61618a6",
   "metadata": {},
   "source": [
    "Next our feature engineering"
   ]
  },
  {
   "cell_type": "code",
   "execution_count": 15,
   "id": "223fe19f",
   "metadata": {},
   "outputs": [],
   "source": [
    "def feature_engineering(df, spam=True):\n",
    "    if spam:\n",
    "        X = df.drop(labels=[\"spam\"], axis=1)\n",
    "    else:\n",
    "        X = df\n",
    "        \n",
    "    for col in [\"subject\", \"email\"]:\n",
    "        X = check_for_words(X, col)\n",
    "        X = num_char_word(X, col)\n",
    "        X = count_punc(X, col)\n",
    "        X = num_caps(X, col)\n",
    "        X = num_letter(X, col, \"!\")\n",
    "        X = num_letter(X, col, \"#\")\n",
    "        X = num_letter(X ,col, \"=\")\n",
    "        X = num_letter(X, col, \"<\")\n",
    "        X = ratio_unique_words(X, col)\n",
    "        X = X.drop(labels=col, axis=1)\n",
    "    return X\n",
    "\n",
    "def ratio_unique_words(df, col):\n",
    "    series = []\n",
    "    for row in df[col]:\n",
    "        words = row.split()\n",
    "        unique = set(words)\n",
    "        if len(words) != 0:\n",
    "            series.append(float(len(unique) / len(words)))\n",
    "        else:\n",
    "            series.append(0)\n",
    "    df[f'{col} ratio_unique_words'] = series\n",
    "    return df\n",
    "\n",
    "def check_for_words(df, col):\n",
    "    words = [\"html\", \"guarenteed\", \"opportunity\", \"body\", \"please\", \"offer\", \"money\", \"girl\", \"sex\", \"drugs\"\n",
    "            \"fee\", \"work\", \"home\", \"inheritance\", \"lottery\", \"visa\", \"enhancement\", \"dysfunctional\", \"dating\",\n",
    "            \"military\", \"porn\", \"gift\", \"business\", \"Re\", \"won\", \"quick\", \"act\", \"now\", \"font\", \"helvetica\", \"http\"\n",
    "            \"free\", \"image\", \"receive\", \"people\", \"send\", \"order\"]\n",
    "    data = words_in_texts(words, df[col])\n",
    "    i = 0\n",
    "    for word in words:\n",
    "        df[f'{col} num_{word}'] = data[:, i]\n",
    "        i += 1\n",
    "    return df\n",
    "\n",
    "def num_caps(df, col):\n",
    "    caps = []\n",
    "    for row in df[col]:\n",
    "        caps.append(sum(1 for c in row if c.isupper()))\n",
    "    df[f'{col} num_caps'] = caps\n",
    "    return df\n",
    "\n",
    "def num_letter(df, col, letter):\n",
    "    caps = []\n",
    "    for row in df[col]:\n",
    "        caps.append(sum(1 for c in row if c == letter))\n",
    "    df[f'{col} num_{letter}'] = caps\n",
    "    return df\n",
    "\n",
    "def count_punc(df, col):\n",
    "    chars = ['!', '.', ';', '!!']\n",
    "    \n",
    "    data = words_in_texts(chars, df[col])\n",
    "    i = 0\n",
    "    for char in chars:\n",
    "        df[f'{col} has_{char}'] = data[:, i]\n",
    "        i += 1\n",
    "    return df\n",
    "\n",
    "def num_char_word(df, col):\n",
    "    chars = []\n",
    "    words = []\n",
    "    for row in df[col]:\n",
    "        chars.append(len(row))\n",
    "        words.append(len(row.split()))\n",
    "    df[f'{col} num_chars'] = chars\n",
    "    df[f'{col} num_words'] = words\n",
    "    return df"
   ]
  },
  {
   "cell_type": "code",
   "execution_count": 16,
   "id": "fe2fc78c",
   "metadata": {},
   "outputs": [
    {
     "name": "stdout",
     "output_type": "stream",
     "text": [
      "False\n",
      "0.9189405031279116\n"
     ]
    },
    {
     "name": "stderr",
     "output_type": "stream",
     "text": [
      "C:\\Users\\camer\\anaconda3\\lib\\site-packages\\sklearn\\linear_model\\_logistic.py:763: ConvergenceWarning: lbfgs failed to converge (status=1):\n",
      "STOP: TOTAL NO. of ITERATIONS REACHED LIMIT.\n",
      "\n",
      "Increase the number of iterations (max_iter) or scale the data as shown in:\n",
      "    https://scikit-learn.org/stable/modules/preprocessing.html\n",
      "Please also refer to the documentation for alternative solver options:\n",
      "    https://scikit-learn.org/stable/modules/linear_model.html#logistic-regression\n",
      "  n_iter_i = _check_optimize_result(\n"
     ]
    }
   ],
   "source": [
    "X_train, Y_train = feature_engineering(train), np.array(train[\"spam\"])\n",
    "model = test_model(LogisticRegression(max_iter=10000), X_train, Y_train)"
   ]
  },
  {
   "cell_type": "code",
   "execution_count": 17,
   "id": "0f972bb7",
   "metadata": {},
   "outputs": [
    {
     "data": {
      "text/plain": [
       "<seaborn.axisgrid.FacetGrid at 0x2091e2c0820>"
      ]
     },
     "execution_count": 17,
     "metadata": {},
     "output_type": "execute_result"
    },
    {
     "data": {
      "image/png": "[encoded data removed]",
      "text/plain": [
       "<Figure size 428.525x360 with 1 Axes>"
      ]
     },
     "metadata": {},
     "output_type": "display_data"
    }
   ],
   "source": [
    "unique_words = ratio_unique_words(train, \"email\")\n",
    "num_chars = num_char_word(unique_words, \"email\")\n",
    "sns.relplot(\n",
    "    data=num_chars, kind=\"scatter\",\n",
    "    x=\"email num_words\", y=\"email ratio_unique_words\",\n",
    "    hue=\"spam\", facet_kws=dict(sharex=False))\n",
    "\n",
    "# sns.scatterplot(y=visualize[\"email num_words\"], x=visualize[\"unique ratio\"], hue=visualize[\"spam\"])\n",
    "# sns.lineplot(x=visualize['id'], y=visualize['unique ratio'], hue=visualize['spam'])\n",
    "# sns.scatterplot(x=visualize['unique ratio'], hue=visualize['spam'])"
   ]
  },
  {
   "cell_type": "markdown",
   "id": "57814a94",
   "metadata": {},
   "source": [
    "ROC Curve"
   ]
  },
  {
   "cell_type": "code",
   "execution_count": 18,
   "id": "ca1442cc",
   "metadata": {},
   "outputs": [
    {
     "name": "stdout",
     "output_type": "stream",
     "text": [
      "AUC = 0.9587532999540591\n"
     ]
    }
   ],
   "source": [
    "from sklearn.metrics import roc_curve, auc\n",
    "\n",
    "y_score = model.predict_proba(X_train)[:,1]\n",
    "fpr, tpr, threshold = roc_curve(Y_train, \n",
    "                               y_score)\n",
    "\n",
    "print(\"AUC = \" + str(auc(fpr, tpr)))\n",
    "      \n",
    "# import plotly.express as px\n",
    "# fig = px.line(x=fpr, y = tpr, hover_name=threshold)\n",
    "# fig.update_xaxes(title=\"False Positive Rate\")\n",
    "# fig.update_yaxes(title=\"True Positive Rate\")\n",
    "# fig\n"
   ]
  },
  {
   "cell_type": "code",
   "execution_count": null,
   "id": "4823de2d",
   "metadata": {},
   "outputs": [],
   "source": []
  }
 ],
 "metadata": {
  "kernelspec": {
   "display_name": "Python 3 (ipykernel)",
   "language": "python",
   "name": "python3"
  },
  "language_info": {
   "codemirror_mode": {
    "name": "ipython",
    "version": 3
   },
   "file_extension": ".py",
   "mimetype": "text/x-python",
   "name": "python",
   "nbconvert_exporter": "python",
   "pygments_lexer": "ipython3",
   "version": "3.9.7"
  }
 },
 "nbformat": 4,
 "nbformat_minor": 5
}
